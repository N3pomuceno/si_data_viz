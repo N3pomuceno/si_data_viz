{
 "cells": [
  {
   "cell_type": "markdown",
   "id": "8bdfb78e-99f6-473f-bdd8-19cf68c96146",
   "metadata": {},
   "source": [
    "# Visualização de dados - UFF - Sistemas de Informação 2023.2\n",
    "**Aluno: João Nepomuceno Freitas de Azevedo / Matrícula: 421083001**\n",
    "\n",
    "## Trabalho 1\n",
    "Sobre esse trabalho eu já deixo claro que utilizei Chat GPT para a formatação e implementação de partes do código, mas com o intuito de acelerar o processo e facilitar a compreensão de quem fosse ver o trabalho. As ideias e motivações foram feitas por mim, e a execução foi com o auxílio da ferramenta.\n",
    "\n",
    "Serão 4 questões que devem ter os seguintes requisitos:\n",
    "* Uma visualização (construída utilizando a biblioteca vega-lite);\n",
    "* Uma discussão sobre as razões que motivaram a escolha da visualização desenvolvida;\n",
    "* Uma análise das informações que podem ser obtidas com a interpretação da visualização.\n",
    "\n",
    "Definirei as 4 perguntas aqui e responderei depois separadamente:\n",
    "1. Quais os 5 times com mais partidas no período?\n",
    "2. O que podemos dizer sobre a evolução do número de gols marcados ao longo dos anos?\n",
    "3. Qual é time mais eficiente (chuta menos vezes para marcar um gol) em cada ano?\n",
    "4. Apresente algum insight que você teve ao realizar o trabalho.\n",
    "\n",
    "Antes de começar a responder, vou importa a biblioteca e carregar os arquivos para que seja possível continuar com o trabalho.\n",
    "\n",
    "---\n",
    "\n",
    "**Importação de bibliotecas**"
   ]
  },
  {
   "cell_type": "code",
   "execution_count": 1,
   "id": "2acdf6c1-6956-4d60-b164-82ab9fd04a9e",
   "metadata": {},
   "outputs": [],
   "source": [
    "# Instalação da biblioteca\n",
    "# !pip install altair"
   ]
  },
  {
   "cell_type": "code",
   "execution_count": 2,
   "id": "486612a1-3d2f-4b8b-9e0d-0dde630182dd",
   "metadata": {},
   "outputs": [
    {
     "data": {
      "text/plain": [
       "DataTransformerRegistry.enable('vegafusion')"
      ]
     },
     "execution_count": 2,
     "metadata": {},
     "output_type": "execute_result"
    }
   ],
   "source": [
    "import pandas as pd\n",
    "import altair as alt\n",
    "\n",
    "# Precisa para a questão 1\n",
    "alt.data_transformers.enable(\"vegafusion\")   "
   ]
  },
  {
   "cell_type": "markdown",
   "id": "29bc6bf1-591e-4e72-ad38-f0af9c69c3a1",
   "metadata": {},
   "source": [
    "Versões utilizadas das bibliotecas:"
   ]
  },
  {
   "cell_type": "code",
   "execution_count": 3,
   "id": "6ea93c2e-37ef-42c9-832c-28b2ffecb403",
   "metadata": {},
   "outputs": [
    {
     "name": "stdout",
     "output_type": "stream",
     "text": [
      "Versão da Biblioteca Pandas: 2.0.3\n",
      "Versão da Biblioteca Altair: 5.1.1\n"
     ]
    }
   ],
   "source": [
    "print(\"Versão da Biblioteca Pandas: {}\".format(pd.__version__))\n",
    "print(\"Versão da Biblioteca Altair: {}\".format(alt.__version__))"
   ]
  },
  {
   "cell_type": "markdown",
   "id": "b5fe41bf-68aa-4b92-98e2-bc396051cf3b",
   "metadata": {},
   "source": [
    "**Carregar arquivos**"
   ]
  },
  {
   "cell_type": "code",
   "execution_count": 4,
   "id": "9fdbf6bd-fd33-4f57-aac1-253bba4c9d7c",
   "metadata": {},
   "outputs": [],
   "source": [
    "campBrasFull = pd.read_csv('dados/campeonato-brasileiro-full.csv')\n",
    "campBrasEstatFull = pd.read_csv('dados/campeonato-brasileiro-estatisticas-full.csv')\n",
    "\n",
    "# Formatação de atributos\n",
    "campBrasFull['data'] = pd.to_datetime(campBrasFull['data'], format='%d/%m/%Y')"
   ]
  },
  {
   "cell_type": "markdown",
   "id": "5b2c586f-11ff-4fe6-bdde-c70dd7d1eef9",
   "metadata": {},
   "source": [
    "Descrição breve de cada dataframe:"
   ]
  },
  {
   "cell_type": "code",
   "execution_count": 5,
   "id": "19df2b05-f4f8-414d-98d7-fc4e09fad37b",
   "metadata": {},
   "outputs": [
    {
     "name": "stdout",
     "output_type": "stream",
     "text": [
      "<class 'pandas.core.frame.DataFrame'>\n",
      "RangeIndex: 8025 entries, 0 to 8024\n",
      "Data columns (total 16 columns):\n",
      " #   Column              Non-Null Count  Dtype         \n",
      "---  ------              --------------  -----         \n",
      " 0   ID                  8025 non-null   int64         \n",
      " 1   rodata              8025 non-null   int64         \n",
      " 2   data                8025 non-null   datetime64[ns]\n",
      " 3   hora                8025 non-null   object        \n",
      " 4   mandante            8025 non-null   object        \n",
      " 5   visitante           8025 non-null   object        \n",
      " 6   formacao_mandante   3051 non-null   object        \n",
      " 7   formacao_visitante  3051 non-null   object        \n",
      " 8   tecnico_mandante    3415 non-null   object        \n",
      " 9   tecnico_visitante   3415 non-null   object        \n",
      " 10  vencedor            8025 non-null   object        \n",
      " 11  arena               8025 non-null   object        \n",
      " 12  mandante_Placar     8025 non-null   int64         \n",
      " 13  visitante_Placar    8025 non-null   int64         \n",
      " 14  mandante_Estado     8025 non-null   object        \n",
      " 15  visitante_Estado    8025 non-null   object        \n",
      "dtypes: datetime64[ns](1), int64(4), object(11)\n",
      "memory usage: 1003.2+ KB\n"
     ]
    },
    {
     "data": {
      "text/plain": [
       "None"
      ]
     },
     "metadata": {},
     "output_type": "display_data"
    },
    {
     "name": "stdout",
     "output_type": "stream",
     "text": [
      "<class 'pandas.core.frame.DataFrame'>\n",
      "RangeIndex: 16050 entries, 0 to 16049\n",
      "Data columns (total 13 columns):\n",
      " #   Column           Non-Null Count  Dtype \n",
      "---  ------           --------------  ----- \n",
      " 0   partida_id       16050 non-null  int64 \n",
      " 1   rodata           16050 non-null  int64 \n",
      " 2   clube            16050 non-null  object\n",
      " 3   chutes           16050 non-null  int64 \n",
      " 4   chutes_no_alvo   16050 non-null  int64 \n",
      " 5   posse_de_bola    6060 non-null   object\n",
      " 6   passes           16050 non-null  int64 \n",
      " 7   precisao_passes  3752 non-null   object\n",
      " 8   faltas           16050 non-null  int64 \n",
      " 9   cartao_amarelo   16050 non-null  int64 \n",
      " 10  cartao_vermelho  16050 non-null  int64 \n",
      " 11  impedimentos     16050 non-null  int64 \n",
      " 12  escanteios       16050 non-null  int64 \n",
      "dtypes: int64(10), object(3)\n",
      "memory usage: 1.6+ MB\n"
     ]
    },
    {
     "data": {
      "text/plain": [
       "None"
      ]
     },
     "metadata": {},
     "output_type": "display_data"
    }
   ],
   "source": [
    "display(campBrasFull.info())\n",
    "display(campBrasEstatFull.info())"
   ]
  },
  {
   "cell_type": "markdown",
   "id": "635e98e2-b728-4727-8eee-4a4d1821bd0a",
   "metadata": {},
   "source": [
    "É possível notar que o dataframe de estatísticas consta o dobro de registros, isso porque ele separa os dados de cada time de cada partida, fazendo com que tenha assim mais registro. \n",
    "\n",
    "Além disso podemos ver que os valores de certos atributos tem uma grande quantidade nula, podemos imaginar que a razão disso é que a implementação do atributo veio depois dos dados serem reunidos.\n",
    "\n",
    "Por mim, dados como precisão de passes, e posse de bolas, estão como object, enquanto seria muito mais interessante poder trabalhar com eles sendo float. Devo implementar mais para frente essas alterações."
   ]
  },
  {
   "cell_type": "markdown",
   "id": "9b5766da-3d0e-4d0c-92d4-21c2bcdfd84c",
   "metadata": {},
   "source": [
    "## Questão 1 : 5 times com mais partidas do período\n",
    "\n",
    "Inicialmente eu faço uma análise rápida que mostra esses times.\n",
    "\n",
    "**Análise inicial**"
   ]
  },
  {
   "cell_type": "code",
   "execution_count": 6,
   "id": "840c5e00-1479-41dd-8090-c47e20d27e42",
   "metadata": {},
   "outputs": [],
   "source": [
    "q1Estat = campBrasEstatFull.copy()\n",
    "q1 = campBrasFull.copy()"
   ]
  },
  {
   "cell_type": "code",
   "execution_count": 7,
   "id": "1ec9d217-f9d9-471f-a80d-09109f9440ce",
   "metadata": {},
   "outputs": [
    {
     "data": {
      "text/plain": [
       "clube\n",
       "Fluminense       780\n",
       "Flamengo         780\n",
       "Santos           780\n",
       "Sao Paulo        780\n",
       "Corinthians      742\n",
       "Athletico-PR     742\n",
       "Internacional    742\n",
       "Atletico-MG      741\n",
       "Gremio           700\n",
       "Palmeiras        696\n",
       "Name: count, dtype: int64"
      ]
     },
     "execution_count": 7,
     "metadata": {},
     "output_type": "execute_result"
    }
   ],
   "source": [
    "q1Estat['clube'].value_counts().head(10)"
   ]
  },
  {
   "cell_type": "code",
   "execution_count": 8,
   "id": "0d90d07b-1cee-4270-a9e5-51195a8d156e",
   "metadata": {},
   "outputs": [],
   "source": [
    "filtro1 = q1Estat['clube'].value_counts().head(16).index.tolist()"
   ]
  },
  {
   "cell_type": "code",
   "execution_count": 9,
   "id": "26307299-3bdd-4351-8fd7-2ed7aebbfcf9",
   "metadata": {},
   "outputs": [],
   "source": [
    "filtro2 =  q1Estat['clube'].value_counts().head(7).index.tolist()"
   ]
  },
  {
   "cell_type": "markdown",
   "id": "c7332e0e-a727-4ace-a0f4-17408b6cc008",
   "metadata": {},
   "source": [
    "Desse ponto é possível ver que quatro times estão com a maior quantidade de jogos e em quinto lugar estariam outros 3 times, então os 5 times com mais partidas no período, na verdade são 7 times ao todo!\n",
    "\n",
    "### **Discussão**\n",
    "\n",
    "Então é interessante mostrar que tem mais times além de só 5, e mostrar suas quantidades, de alguma forma, não necessariamente precisa ter os números, mas ao mesmo tempo é interessante ver que tem 4 times que têm os mesmo valores. Os marcadores mais interessantes seriam unidimensionais e bidimensionais. Tenho mais interesse em usar marcador bidimensional (linhas), com canais visuais de posição, comprimento (por mais que seja área, o foco é em uma dimensão) e cores.  Bidimensional pois é interessante usar o comprimento/altura para mostrar o quão grande é maior que os outros em relação a quantidade de jogos.\n",
    "\n",
    "Posição para mostrar que quanto mais o valor de texto está para o lado, maior a quantidade de jogos, e cor é interessante para dar o destaque daqueles que se enquadram no top 5.\n",
    "\n",
    "O resultado dessa ideia é:"
   ]
  },
  {
   "cell_type": "code",
   "execution_count": 10,
   "id": "f9d494e5-0661-4fa5-a5b6-2b630618a6e2",
   "metadata": {},
   "outputs": [
    {
     "data": {
      "text/html": [
       "\n",
       "<style>\n",
       "  #altair-viz-e68609b0004e4c5091fdde3ffd1c9d29.vega-embed {\n",
       "    width: 100%;\n",
       "    display: flex;\n",
       "  }\n",
       "\n",
       "  #altair-viz-e68609b0004e4c5091fdde3ffd1c9d29.vega-embed details,\n",
       "  #altair-viz-e68609b0004e4c5091fdde3ffd1c9d29.vega-embed details summary {\n",
       "    position: relative;\n",
       "  }\n",
       "</style>\n",
       "<div id=\"altair-viz-e68609b0004e4c5091fdde3ffd1c9d29\"></div>\n",
       "<script type=\"text/javascript\">\n",
       "  var VEGA_DEBUG = (typeof VEGA_DEBUG == \"undefined\") ? {} : VEGA_DEBUG;\n",
       "  (function(spec, embedOpt){\n",
       "    let outputDiv = document.currentScript.previousElementSibling;\n",
       "    if (outputDiv.id !== \"altair-viz-e68609b0004e4c5091fdde3ffd1c9d29\") {\n",
       "      outputDiv = document.getElementById(\"altair-viz-e68609b0004e4c5091fdde3ffd1c9d29\");\n",
       "    }\n",
       "    const paths = {\n",
       "      \"vega\": \"https://cdn.jsdelivr.net/npm/vega@5?noext\",\n",
       "      \"vega-lib\": \"https://cdn.jsdelivr.net/npm/vega-lib?noext\",\n",
       "      \"vega-lite\": \"https://cdn.jsdelivr.net/npm/vega-lite@5.14.1?noext\",\n",
       "      \"vega-embed\": \"https://cdn.jsdelivr.net/npm/vega-embed@6?noext\",\n",
       "    };\n",
       "\n",
       "    function maybeLoadScript(lib, version) {\n",
       "      var key = `${lib.replace(\"-\", \"\")}_version`;\n",
       "      return (VEGA_DEBUG[key] == version) ?\n",
       "        Promise.resolve(paths[lib]) :\n",
       "        new Promise(function(resolve, reject) {\n",
       "          var s = document.createElement('script');\n",
       "          document.getElementsByTagName(\"head\")[0].appendChild(s);\n",
       "          s.async = true;\n",
       "          s.onload = () => {\n",
       "            VEGA_DEBUG[key] = version;\n",
       "            return resolve(paths[lib]);\n",
       "          };\n",
       "          s.onerror = () => reject(`Error loading script: ${paths[lib]}`);\n",
       "          s.src = paths[lib];\n",
       "        });\n",
       "    }\n",
       "\n",
       "    function showError(err) {\n",
       "      outputDiv.innerHTML = `<div class=\"error\" style=\"color:red;\">${err}</div>`;\n",
       "      throw err;\n",
       "    }\n",
       "\n",
       "    function displayChart(vegaEmbed) {\n",
       "      vegaEmbed(outputDiv, spec, embedOpt)\n",
       "        .catch(err => showError(`Javascript Error: ${err.message}<br>This usually means there's a typo in your chart specification. See the javascript console for the full traceback.`));\n",
       "    }\n",
       "\n",
       "    if(typeof define === \"function\" && define.amd) {\n",
       "      requirejs.config({paths});\n",
       "      require([\"vega-embed\"], displayChart, err => showError(`Error loading script: ${err.message}`));\n",
       "    } else {\n",
       "      maybeLoadScript(\"vega\", \"5\")\n",
       "        .then(() => maybeLoadScript(\"vega-lite\", \"5.14.1\"))\n",
       "        .then(() => maybeLoadScript(\"vega-embed\", \"6\"))\n",
       "        .catch(showError)\n",
       "        .then(() => displayChart(vegaEmbed));\n",
       "    }\n",
       "  })({\"$schema\": \"https://vega.github.io/schema/vega/v5.json\", \"data\": [{\"name\": \"source_0\"}, {\"name\": \"data_0\"}, {\"name\": \"data_1\", \"values\": [{\"__count\": 590, \"clube\": \"Vasco\"}, {\"__count\": 742, \"clube\": \"Athletico-PR\"}, {\"__count\": 700, \"clube\": \"Gremio\"}, {\"__count\": 780, \"clube\": \"Flamengo\"}, {\"__count\": 552, \"clube\": \"Coritiba\"}, {\"__count\": 552, \"clube\": \"Goias\"}, {\"__count\": 742, \"clube\": \"Internacional\"}, {\"__count\": 780, \"clube\": \"Fluminense\"}, {\"__count\": 780, \"clube\": \"Sao Paulo\"}, {\"__count\": 666, \"clube\": \"Cruzeiro\"}, {\"__count\": 438, \"clube\": \"Figueirense\"}, {\"__count\": 780, \"clube\": \"Santos\"}, {\"__count\": 742, \"clube\": \"Corinthians\"}, {\"__count\": 741, \"clube\": \"Atletico-MG\"}, {\"__count\": 658, \"clube\": \"Botafogo-RJ\"}, {\"__count\": 696, \"clube\": \"Palmeiras\"}]}, {\"name\": \"data_2\"}, {\"name\": \"data_3\", \"values\": [{\"__count\": 742, \"clube\": \"Athletico-PR\"}, {\"__count\": 780, \"clube\": \"Flamengo\"}, {\"__count\": 742, \"clube\": \"Internacional\"}, {\"__count\": 780, \"clube\": \"Fluminense\"}, {\"__count\": 780, \"clube\": \"Sao Paulo\"}, {\"__count\": 780, \"clube\": \"Santos\"}, {\"__count\": 742, \"clube\": \"Corinthians\"}]}, {\"name\": \"data_0_y_domain_clube_0\", \"values\": [{\"clube\": \"Vasco\", \"sort_field\": 590}, {\"clube\": \"Athletico-PR\", \"sort_field\": 742}, {\"clube\": \"Gremio\", \"sort_field\": 700}, {\"clube\": \"Flamengo\", \"sort_field\": 780}, {\"clube\": \"Coritiba\", \"sort_field\": 552}, {\"clube\": \"Goias\", \"sort_field\": 552}, {\"clube\": \"Internacional\", \"sort_field\": 742}, {\"clube\": \"Fluminense\", \"sort_field\": 780}, {\"clube\": \"Sao Paulo\", \"sort_field\": 780}, {\"clube\": \"Cruzeiro\", \"sort_field\": 666}, {\"clube\": \"Figueirense\", \"sort_field\": 438}, {\"clube\": \"Santos\", \"sort_field\": 780}, {\"clube\": \"Corinthians\", \"sort_field\": 742}, {\"clube\": \"Atletico-MG\", \"sort_field\": 741}, {\"clube\": \"Botafogo-RJ\", \"sort_field\": 658}, {\"clube\": \"Palmeiras\", \"sort_field\": 696}]}, {\"name\": \"data_2_y_domain_clube_1\", \"values\": [{\"clube\": \"Athletico-PR\", \"sort_field\": 742}, {\"clube\": \"Flamengo\", \"sort_field\": 780}, {\"clube\": \"Internacional\", \"sort_field\": 742}, {\"clube\": \"Fluminense\", \"sort_field\": 780}, {\"clube\": \"Sao Paulo\", \"sort_field\": 780}, {\"clube\": \"Santos\", \"sort_field\": 780}, {\"clube\": \"Corinthians\", \"sort_field\": 742}]}], \"marks\": [{\"type\": \"rect\", \"name\": \"layer_0_marks\", \"from\": {\"data\": \"data_1\"}, \"encode\": {\"update\": {\"height\": {\"signal\": \"max(0.25, bandwidth('y'))\"}, \"ariaRoleDescription\": {\"value\": \"bar\"}, \"fill\": [{\"value\": \"blue\", \"test\": \"indexof([\\\"Fluminense\\\",\\\"Flamengo\\\",\\\"Santos\\\",\\\"Sao Paulo\\\",\\\"Corinthians\\\",\\\"Athletico-PR\\\",\\\"Internacional\\\"], datum[\\\"clube\\\"]) !== -1\"}, {\"value\": \"gray\"}], \"x\": {\"field\": \"__count\", \"scale\": \"x\"}, \"x2\": {\"value\": 0, \"scale\": \"x\"}, \"description\": {\"signal\": \"\\\"Quantidade de Jogos: \\\" + (format(datum[\\\"__count\\\"], \\\"\\\")) + \\\"; Clubes Brasileiros: \\\" + (isValid(datum[\\\"clube\\\"]) ? datum[\\\"clube\\\"] : \\\"\\\"+datum[\\\"clube\\\"])\"}, \"y\": {\"field\": \"clube\", \"scale\": \"y\"}}}, \"style\": [\"bar\"]}, {\"type\": \"text\", \"name\": \"layer_1_marks\", \"from\": {\"data\": \"data_3\"}, \"encode\": {\"update\": {\"baseline\": {\"value\": \"middle\"}, \"fill\": {\"value\": \"black\"}, \"y\": {\"field\": \"clube\", \"scale\": \"y\", \"band\": 0.5}, \"x\": {\"field\": \"__count\", \"scale\": \"x\"}, \"description\": {\"signal\": \"\\\"Count of Records: \\\" + (format(datum[\\\"__count\\\"], \\\"\\\")) + \\\"; clube: \\\" + (isValid(datum[\\\"clube\\\"]) ? datum[\\\"clube\\\"] : \\\"\\\"+datum[\\\"clube\\\"])\"}, \"fontSize\": {\"value\": 14}, \"align\": {\"value\": \"left\"}, \"text\": {\"signal\": \"format(datum[\\\"__count\\\"], \\\"\\\")\"}}}, \"style\": [\"text\"]}], \"scales\": [{\"name\": \"x\", \"type\": \"linear\", \"domain\": {\"fields\": [{\"data\": \"data_1\", \"field\": \"__count\"}, {\"data\": \"data_3\", \"field\": \"__count\"}]}, \"range\": [0, {\"signal\": \"width\"}], \"zero\": true, \"nice\": true}, {\"name\": \"y\", \"type\": \"band\", \"domain\": {\"fields\": [{\"data\": \"data_0_y_domain_clube_0\", \"field\": \"clube\"}, {\"data\": \"data_2_y_domain_clube_1\", \"field\": \"clube\"}], \"sort\": {\"op\": \"max\", \"field\": \"sort_field\", \"order\": \"descending\"}}, \"range\": [0, {\"signal\": \"height\"}], \"paddingInner\": 0.1, \"paddingOuter\": 0.05}], \"axes\": [{\"scale\": \"x\", \"labelOverlap\": true, \"zindex\": 0, \"title\": \"Quantidade de Jogos\", \"labels\": false, \"titleFontSize\": 16, \"orient\": \"bottom\", \"grid\": false, \"tickCount\": 0, \"labelFlush\": true}, {\"scale\": \"y\", \"grid\": false, \"zindex\": 0, \"title\": \"Clubes Brasileiros\", \"orient\": \"left\", \"labelFontSize\": 14, \"titleFontSize\": 16, \"tickCount\": 0}], \"title\": {\"text\": \"Top \\\"5\\\" clubes com mais jogos no per\\u00edodo 2003/2022\", \"frame\": \"group\", \"fontSize\": 20}, \"background\": \"white\", \"height\": 300, \"padding\": 5, \"config\": {\"axis\": {\"domain\": false, \"grid\": false, \"tickCount\": 0}, \"style\": {\"cell\": {\"stroke\": null}}}, \"width\": 500, \"style\": \"cell\"}, {\"mode\": \"vega\"});\n",
       "</script>"
      ],
      "text/plain": [
       "alt.LayerChart(...)"
      ]
     },
     "execution_count": 10,
     "metadata": {},
     "output_type": "execute_result"
    }
   ],
   "source": [
    "# Visualização\n",
    "\n",
    "# Criação do gráfico de barras\n",
    "bar_chart = alt.Chart(q1Estat).mark_bar().encode(\n",
    "    # Eixo X: Quantidade de jogos\n",
    "    x=alt.X('count(clube)',\n",
    "        type='quantitative',\n",
    "        title='Quantidade de Jogos',\n",
    "        axis=alt.Axis(\n",
    "            labels=False,  # Oculta rótulos\n",
    "            grid=False,    # Oculta grade\n",
    "            titleFontSize=16  # Tamanho da fonte do título\n",
    "        )\n",
    "    ),\n",
    "    \n",
    "    # Eixo Y: Clubes Brasileiros\n",
    "    y=alt.Y('clube',\n",
    "        type='nominal',\n",
    "        sort={\"encoding\": \"x\", \"order\": \"descending\"},  # Ordenação personalizada\n",
    "        title='Clubes Brasileiros',\n",
    "        axis=alt.Axis(\n",
    "            labelFontSize=14,  # Tamanho da fonte dos rótulos\n",
    "            titleFontSize=16   # Tamanho da fonte do título\n",
    "        )\n",
    "    ),\n",
    "    \n",
    "    # Cor das barras com base em condição (filtro2)\n",
    "    color=alt.condition(\n",
    "        alt.FieldOneOfPredicate('clube', filtro2),\n",
    "        alt.value('blue'),\n",
    "        alt.value('gray')\n",
    "    ),\n",
    ").transform_filter(\n",
    "    alt.FieldOneOfPredicate('clube', filtro1)  # Filtra os clubes com base em filtro1\n",
    ").properties(\n",
    "    width=500,   # Largura personalizada em pixels\n",
    "    height=300,  # Altura personalizada em pixels\n",
    "    title=alt.TitleParams(text='Top \"5\" clubes com mais jogos no período 2003/2022', fontSize=20)\n",
    ")\n",
    "\n",
    "# Segundo gráfico (camada) para exibir valores numéricos\n",
    "text_chart = alt.Chart(q1Estat).mark_text(align='left', size=14).encode(\n",
    "    x=alt.X('count(clube):Q'),           # Eixo X para exibir os valores de contagem\n",
    "    y=alt.Y('clube:N', sort={\"encoding\": \"x\", \"order\": \"descending\"}),   # Eixo Y com ordenação personalizada\n",
    "    text=alt.Text('count(clube):Q')      # Exibe o valor de contagem ao lado de cada barra\n",
    ").transform_filter(\n",
    "    alt.FieldOneOfPredicate('clube', filtro2)  # Filtra os clubes com base em filtro1\n",
    ")\n",
    "\n",
    "# Combine os gráficos (bar_chart + text_chart)\n",
    "final_chart = bar_chart + text_chart\n",
    "\n",
    "# Exibir o gráfico final\n",
    "final_chart.configure_view(stroke=None).configure_axis(   #Sem a box\n",
    "    grid=False,       # Remove as linhas de grade do eixo\n",
    "    tickCount=0,      # Remove os ticks do eixo\n",
    "    domain=False      # Remove a barra que liga os ticks do eixo\n",
    ")  # Oculta as bordas do gráfico\n"
   ]
  },
  {
   "cell_type": "markdown",
   "id": "fbe67e7b-4c39-4c53-91d9-6c9b6fa8bd10",
   "metadata": {},
   "source": [
    "### **Análise**\n",
    "\n",
    "A partir disso é possível notar de cara que não temos 5 times que mais jogaram partidas e sim 7 times! Mas por que eu faço isso? \n",
    "\n",
    "Os quatro primeiros times apresentam a mesma quantidade de jogos, e depois disso, o quinto time com mais partidas fica num empate entre três times! Athletico-PR, Internacional e Corinthians. Não é possível dizer quem tem mais jogos entre os três, e não vale a pena escolher um deles aleatoriamente e ignorar os outros dois. Nesse caso preferi incluir na visualização todos. \n",
    "\n",
    "Além disso, para dar destaque aos times eu incluí a cor azul, mas se eu colocasse somente os 7 times, a cor não teria nenhum efeito senão ser padrão, por isso incluo também outros times, na cor cinza que não chama tanta atenção, que não se enquadram no top'5', com o objetivo de mostrar a diferença dos times com mais partidas dos demais. Dando assim um contraste que chama atenção para o times com mais partidas."
   ]
  },
  {
   "cell_type": "markdown",
   "id": "17f0122d-f435-4545-8afe-01b93aa89189",
   "metadata": {},
   "source": [
    "---\n",
    "## Questão 2 : Evolução do número de gols marcados durante os anos\n",
    "\n",
    "Inicialmente eu faço uma análise rápida que mostra esses dados.\n",
    "\n",
    "**Análise inicial**"
   ]
  },
  {
   "cell_type": "code",
   "execution_count": 11,
   "id": "5b2c9432-bb42-4cb4-9bc6-032d01dcbf91",
   "metadata": {},
   "outputs": [],
   "source": [
    "q2Estat = campBrasEstatFull.copy()\n",
    "q2 = campBrasFull.copy()"
   ]
  },
  {
   "cell_type": "code",
   "execution_count": 12,
   "id": "1c85a55f-4b6f-4a91-a4f0-2d56cb9d8f5c",
   "metadata": {},
   "outputs": [],
   "source": [
    "# Mostrar que o placar define a quantidade de gols de cada time.\n",
    "# q2[['mandante','mandante_Placar','visitante_Placar','visitante','vencedor']]"
   ]
  },
  {
   "cell_type": "code",
   "execution_count": 13,
   "id": "dee5221a-701c-4672-a36f-fea1ccfef62a",
   "metadata": {},
   "outputs": [],
   "source": [
    "q2['qtd_gols_partida'] = q2['mandante_Placar']+q2['visitante_Placar']"
   ]
  },
  {
   "cell_type": "code",
   "execution_count": 14,
   "id": "472cf66b-38af-42d8-a593-b84da9f27393",
   "metadata": {
    "scrolled": true
   },
   "outputs": [
    {
     "data": {
      "text/html": [
       "<div>\n",
       "<style scoped>\n",
       "    .dataframe tbody tr th:only-of-type {\n",
       "        vertical-align: middle;\n",
       "    }\n",
       "\n",
       "    .dataframe tbody tr th {\n",
       "        vertical-align: top;\n",
       "    }\n",
       "\n",
       "    .dataframe thead th {\n",
       "        text-align: right;\n",
       "    }\n",
       "</style>\n",
       "<table border=\"1\" class=\"dataframe\">\n",
       "  <thead>\n",
       "    <tr style=\"text-align: right;\">\n",
       "      <th></th>\n",
       "      <th>qtd_gols_partida</th>\n",
       "    </tr>\n",
       "    <tr>\n",
       "      <th>data</th>\n",
       "      <th></th>\n",
       "    </tr>\n",
       "  </thead>\n",
       "  <tbody>\n",
       "    <tr>\n",
       "      <th>2003</th>\n",
       "      <td>1592</td>\n",
       "    </tr>\n",
       "    <tr>\n",
       "      <th>2004</th>\n",
       "      <td>1534</td>\n",
       "    </tr>\n",
       "    <tr>\n",
       "      <th>2005</th>\n",
       "      <td>1451</td>\n",
       "    </tr>\n",
       "    <tr>\n",
       "      <th>2006</th>\n",
       "      <td>1030</td>\n",
       "    </tr>\n",
       "    <tr>\n",
       "      <th>2007</th>\n",
       "      <td>1047</td>\n",
       "    </tr>\n",
       "    <tr>\n",
       "      <th>2008</th>\n",
       "      <td>1035</td>\n",
       "    </tr>\n",
       "    <tr>\n",
       "      <th>2009</th>\n",
       "      <td>1094</td>\n",
       "    </tr>\n",
       "    <tr>\n",
       "      <th>2010</th>\n",
       "      <td>978</td>\n",
       "    </tr>\n",
       "    <tr>\n",
       "      <th>2011</th>\n",
       "      <td>1017</td>\n",
       "    </tr>\n",
       "    <tr>\n",
       "      <th>2012</th>\n",
       "      <td>940</td>\n",
       "    </tr>\n",
       "    <tr>\n",
       "      <th>2013</th>\n",
       "      <td>936</td>\n",
       "    </tr>\n",
       "    <tr>\n",
       "      <th>2014</th>\n",
       "      <td>860</td>\n",
       "    </tr>\n",
       "    <tr>\n",
       "      <th>2015</th>\n",
       "      <td>897</td>\n",
       "    </tr>\n",
       "    <tr>\n",
       "      <th>2016</th>\n",
       "      <td>912</td>\n",
       "    </tr>\n",
       "    <tr>\n",
       "      <th>2017</th>\n",
       "      <td>923</td>\n",
       "    </tr>\n",
       "    <tr>\n",
       "      <th>2018</th>\n",
       "      <td>827</td>\n",
       "    </tr>\n",
       "    <tr>\n",
       "      <th>2019</th>\n",
       "      <td>876</td>\n",
       "    </tr>\n",
       "    <tr>\n",
       "      <th>2020</th>\n",
       "      <td>654</td>\n",
       "    </tr>\n",
       "    <tr>\n",
       "      <th>2021</th>\n",
       "      <td>1132</td>\n",
       "    </tr>\n",
       "    <tr>\n",
       "      <th>2022</th>\n",
       "      <td>905</td>\n",
       "    </tr>\n",
       "  </tbody>\n",
       "</table>\n",
       "</div>"
      ],
      "text/plain": [
       "      qtd_gols_partida\n",
       "data                  \n",
       "2003              1592\n",
       "2004              1534\n",
       "2005              1451\n",
       "2006              1030\n",
       "2007              1047\n",
       "2008              1035\n",
       "2009              1094\n",
       "2010               978\n",
       "2011              1017\n",
       "2012               940\n",
       "2013               936\n",
       "2014               860\n",
       "2015               897\n",
       "2016               912\n",
       "2017               923\n",
       "2018               827\n",
       "2019               876\n",
       "2020               654\n",
       "2021              1132\n",
       "2022               905"
      ]
     },
     "execution_count": 14,
     "metadata": {},
     "output_type": "execute_result"
    }
   ],
   "source": [
    "gols_por_ano = q2.groupby(q2.data.dt.year)[['qtd_gols_partida']].sum()\n",
    "gols_por_ano"
   ]
  },
  {
   "cell_type": "markdown",
   "id": "58450d2c-14ef-49df-ba3c-b60d3ae82966",
   "metadata": {},
   "source": [
    "### **Discussão**\n",
    "\n",
    "Bem, sendo a pergunta associada com a evolução do número de gols, o número por si só não é nosso foco, mas sim o comportamento. Se ele cresce ou diminui, e como ele faz isso. É bom entender como está variando, e por isso não quero me preocupar tanto com os valores dos gols, se no total de um ano foi 1543 gols, não irá impactar tanto quanto saber a diferença entre esse ano e o próximo ou o anterior.\n",
    "\n",
    "Por isso eu imagino que o melhor marcador seja o unidimensional, com os canais visuais de posição e de inclinação. Por mais que tenha cor sendo utilizada, não é usada como um canal visual para algum atributo ou algo do tipo.\n",
    "\n",
    "Durante a produção da visualização, estava tentando tirar o eixo y, que não é tão necessário assim para entender o comportamento, e estava tentando colocar os valores das quantidades de pontos, dentro do gráfico, ao lado dos pontos de cada ano, porém não tive capacidade de fazer isso, por causa disso deixei o eixo y, porém com menos ticks no eixo para evitar poluir tanto o visual e deixar só como referência os valores dos ticks."
   ]
  },
  {
   "cell_type": "code",
   "execution_count": 15,
   "id": "d5d4254d-953d-42fd-9e5c-0c8b4341606e",
   "metadata": {},
   "outputs": [
    {
     "data": {
      "text/html": [
       "\n",
       "<style>\n",
       "  #altair-viz-dc2d4ec6ef564fd4aa16798e614c2837.vega-embed {\n",
       "    width: 100%;\n",
       "    display: flex;\n",
       "  }\n",
       "\n",
       "  #altair-viz-dc2d4ec6ef564fd4aa16798e614c2837.vega-embed details,\n",
       "  #altair-viz-dc2d4ec6ef564fd4aa16798e614c2837.vega-embed details summary {\n",
       "    position: relative;\n",
       "  }\n",
       "</style>\n",
       "<div id=\"altair-viz-dc2d4ec6ef564fd4aa16798e614c2837\"></div>\n",
       "<script type=\"text/javascript\">\n",
       "  var VEGA_DEBUG = (typeof VEGA_DEBUG == \"undefined\") ? {} : VEGA_DEBUG;\n",
       "  (function(spec, embedOpt){\n",
       "    let outputDiv = document.currentScript.previousElementSibling;\n",
       "    if (outputDiv.id !== \"altair-viz-dc2d4ec6ef564fd4aa16798e614c2837\") {\n",
       "      outputDiv = document.getElementById(\"altair-viz-dc2d4ec6ef564fd4aa16798e614c2837\");\n",
       "    }\n",
       "    const paths = {\n",
       "      \"vega\": \"https://cdn.jsdelivr.net/npm/vega@5?noext\",\n",
       "      \"vega-lib\": \"https://cdn.jsdelivr.net/npm/vega-lib?noext\",\n",
       "      \"vega-lite\": \"https://cdn.jsdelivr.net/npm/vega-lite@5.14.1?noext\",\n",
       "      \"vega-embed\": \"https://cdn.jsdelivr.net/npm/vega-embed@6?noext\",\n",
       "    };\n",
       "\n",
       "    function maybeLoadScript(lib, version) {\n",
       "      var key = `${lib.replace(\"-\", \"\")}_version`;\n",
       "      return (VEGA_DEBUG[key] == version) ?\n",
       "        Promise.resolve(paths[lib]) :\n",
       "        new Promise(function(resolve, reject) {\n",
       "          var s = document.createElement('script');\n",
       "          document.getElementsByTagName(\"head\")[0].appendChild(s);\n",
       "          s.async = true;\n",
       "          s.onload = () => {\n",
       "            VEGA_DEBUG[key] = version;\n",
       "            return resolve(paths[lib]);\n",
       "          };\n",
       "          s.onerror = () => reject(`Error loading script: ${paths[lib]}`);\n",
       "          s.src = paths[lib];\n",
       "        });\n",
       "    }\n",
       "\n",
       "    function showError(err) {\n",
       "      outputDiv.innerHTML = `<div class=\"error\" style=\"color:red;\">${err}</div>`;\n",
       "      throw err;\n",
       "    }\n",
       "\n",
       "    function displayChart(vegaEmbed) {\n",
       "      vegaEmbed(outputDiv, spec, embedOpt)\n",
       "        .catch(err => showError(`Javascript Error: ${err.message}<br>This usually means there's a typo in your chart specification. See the javascript console for the full traceback.`));\n",
       "    }\n",
       "\n",
       "    if(typeof define === \"function\" && define.amd) {\n",
       "      requirejs.config({paths});\n",
       "      require([\"vega-embed\"], displayChart, err => showError(`Error loading script: ${err.message}`));\n",
       "    } else {\n",
       "      maybeLoadScript(\"vega\", \"5\")\n",
       "        .then(() => maybeLoadScript(\"vega-lite\", \"5.14.1\"))\n",
       "        .then(() => maybeLoadScript(\"vega-embed\", \"6\"))\n",
       "        .catch(showError)\n",
       "        .then(() => displayChart(vegaEmbed));\n",
       "    }\n",
       "  })({\"$schema\": \"https://vega.github.io/schema/vega/v5.json\", \"data\": [{\"name\": \"source_0\", \"values\": [{\"data\": 2003, \"qtd_gols_partida\": 1592}, {\"data\": 2004, \"qtd_gols_partida\": 1534}, {\"data\": 2005, \"qtd_gols_partida\": 1451}, {\"data\": 2006, \"qtd_gols_partida\": 1030}, {\"data\": 2007, \"qtd_gols_partida\": 1047}, {\"data\": 2008, \"qtd_gols_partida\": 1035}, {\"data\": 2009, \"qtd_gols_partida\": 1094}, {\"data\": 2010, \"qtd_gols_partida\": 978}, {\"data\": 2011, \"qtd_gols_partida\": 1017}, {\"data\": 2012, \"qtd_gols_partida\": 940}, {\"data\": 2013, \"qtd_gols_partida\": 936}, {\"data\": 2014, \"qtd_gols_partida\": 860}, {\"data\": 2015, \"qtd_gols_partida\": 897}, {\"data\": 2016, \"qtd_gols_partida\": 912}, {\"data\": 2017, \"qtd_gols_partida\": 923}, {\"data\": 2018, \"qtd_gols_partida\": 827}, {\"data\": 2019, \"qtd_gols_partida\": 876}, {\"data\": 2020, \"qtd_gols_partida\": 654}, {\"data\": 2021, \"qtd_gols_partida\": 1132}, {\"data\": 2022, \"qtd_gols_partida\": 905}]}, {\"name\": \"data_0\", \"values\": [{\"data\": 2003, \"qtd_gols_partida\": 1592}, {\"data\": 2004, \"qtd_gols_partida\": 1534}, {\"data\": 2005, \"qtd_gols_partida\": 1451}, {\"data\": 2006, \"qtd_gols_partida\": 1030}, {\"data\": 2007, \"qtd_gols_partida\": 1047}, {\"data\": 2008, \"qtd_gols_partida\": 1035}, {\"data\": 2009, \"qtd_gols_partida\": 1094}, {\"data\": 2010, \"qtd_gols_partida\": 978}, {\"data\": 2011, \"qtd_gols_partida\": 1017}, {\"data\": 2012, \"qtd_gols_partida\": 940}, {\"data\": 2013, \"qtd_gols_partida\": 936}, {\"data\": 2014, \"qtd_gols_partida\": 860}, {\"data\": 2015, \"qtd_gols_partida\": 897}, {\"data\": 2016, \"qtd_gols_partida\": 912}, {\"data\": 2017, \"qtd_gols_partida\": 923}, {\"data\": 2018, \"qtd_gols_partida\": 827}, {\"data\": 2019, \"qtd_gols_partida\": 876}, {\"data\": 2020, \"qtd_gols_partida\": 654}, {\"data\": 2021, \"qtd_gols_partida\": 1132}, {\"data\": 2022, \"qtd_gols_partida\": 905}]}, {\"name\": \"source_0_x_domain_data_0\", \"values\": [{\"data\": 2003}, {\"data\": 2004}, {\"data\": 2005}, {\"data\": 2006}, {\"data\": 2007}, {\"data\": 2008}, {\"data\": 2009}, {\"data\": 2010}, {\"data\": 2011}, {\"data\": 2012}, {\"data\": 2013}, {\"data\": 2014}, {\"data\": 2015}, {\"data\": 2016}, {\"data\": 2017}, {\"data\": 2018}, {\"data\": 2019}, {\"data\": 2020}, {\"data\": 2021}, {\"data\": 2022}]}, {\"name\": \"data_0_x_domain_data_1\", \"values\": [{\"data\": 2003}, {\"data\": 2004}, {\"data\": 2005}, {\"data\": 2006}, {\"data\": 2007}, {\"data\": 2008}, {\"data\": 2009}, {\"data\": 2010}, {\"data\": 2011}, {\"data\": 2012}, {\"data\": 2013}, {\"data\": 2014}, {\"data\": 2015}, {\"data\": 2016}, {\"data\": 2017}, {\"data\": 2018}, {\"data\": 2019}, {\"data\": 2020}, {\"data\": 2021}, {\"data\": 2022}]}], \"marks\": [{\"type\": \"line\", \"name\": \"layer_0_marks\", \"from\": {\"data\": \"source_0\"}, \"sort\": {\"field\": \"datum[\\\"data\\\"]\"}, \"encode\": {\"update\": {\"defined\": {\"signal\": \"isValid(datum[\\\"qtd_gols_partida\\\"]) && isFinite(+datum[\\\"qtd_gols_partida\\\"])\"}, \"y\": {\"field\": \"qtd_gols_partida\", \"scale\": \"y\"}, \"interpolate\": {\"value\": \"natural\"}, \"stroke\": {\"value\": \"#4c78a8\"}, \"description\": {\"signal\": \"\\\"data: \\\" + (isValid(datum[\\\"data\\\"]) ? datum[\\\"data\\\"] : \\\"\\\"+datum[\\\"data\\\"]) + \\\"; qtd_gols_partida: \\\" + (format(datum[\\\"qtd_gols_partida\\\"], \\\"\\\"))\"}, \"x\": {\"field\": \"data\", \"scale\": \"x\"}, \"strokeWidth\": {\"value\": 3}}}, \"style\": [\"line\"]}, {\"type\": \"symbol\", \"name\": \"layer_1_marks\", \"from\": {\"data\": \"data_0\"}, \"encode\": {\"update\": {\"description\": {\"signal\": \"\\\"data: \\\" + (isValid(datum[\\\"data\\\"]) ? datum[\\\"data\\\"] : \\\"\\\"+datum[\\\"data\\\"]) + \\\"; qtd_gols_partida: \\\" + (format(datum[\\\"qtd_gols_partida\\\"], \\\"\\\"))\"}, \"fill\": {\"value\": \"#4c78a8\"}, \"ariaRoleDescription\": {\"value\": \"point\"}, \"x\": {\"field\": \"data\", \"scale\": \"x\"}, \"y\": {\"field\": \"qtd_gols_partida\", \"scale\": \"y\"}, \"opacity\": {\"value\": 1}}}, \"style\": [\"point\"]}], \"scales\": [{\"name\": \"x\", \"type\": \"point\", \"domain\": {\"fields\": [{\"data\": \"source_0_x_domain_data_0\", \"field\": \"data\"}, {\"data\": \"data_0_x_domain_data_1\", \"field\": \"data\"}], \"sort\": true}, \"range\": [0, {\"signal\": \"width\"}], \"padding\": 0.5}, {\"name\": \"y\", \"type\": \"linear\", \"domain\": [0, 1751.2], \"range\": [{\"signal\": \"height\"}, 0], \"zero\": true}], \"axes\": [{\"scale\": \"x\", \"gridScale\": \"y\", \"gridOpacity\": 0.4, \"minExtent\": 0, \"aria\": false, \"zindex\": 0, \"maxExtent\": 0, \"domain\": false, \"grid\": true, \"orient\": \"bottom\", \"ticks\": false, \"labels\": false}, {\"scale\": \"x\", \"titleFontSize\": 16, \"labelAlign\": \"left\", \"labelAngle\": 30, \"zindex\": 0, \"labelBaseline\": \"top\", \"orient\": \"bottom\", \"labelFontSize\": 13, \"grid\": false, \"title\": \"Anos\"}, {\"scale\": \"y\", \"labelOverlap\": true, \"tickCount\": 3, \"zindex\": 0, \"grid\": false, \"orient\": \"left\", \"title\": \"Quantidade de Gols\", \"titleFontSize\": 16}], \"title\": {\"text\": \"Evolu\\u00e7\\u00e3o da quantidade de gols nas partidas com o passar dos anos\", \"fontSize\": 20, \"frame\": \"group\"}, \"padding\": 5, \"width\": 800, \"height\": 300, \"style\": \"cell\", \"background\": \"white\"}, {\"mode\": \"vega\"});\n",
       "</script>"
      ],
      "text/plain": [
       "alt.Chart(...)"
      ]
     },
     "execution_count": 15,
     "metadata": {},
     "output_type": "execute_result"
    }
   ],
   "source": [
    "# Visualização\n",
    "\n",
    "# Defina o domínio para o eixo Y com base nos valores máximos dos dados\n",
    "dominio = [0, gols_por_ano['qtd_gols_partida'].max() * 1.1]\n",
    "\n",
    "# Crie um gráfico de linha com um eixo Y customizado\n",
    "alt.Chart(gols_por_ano).mark_line(interpolate='natural', point=True, strokeWidth=3).encode(\n",
    "    # Configuração do eixo X\n",
    "    x=alt.X('data:N', axis=alt.Axis(\n",
    "        title='Anos',              # Título do eixo X\n",
    "        titleFontSize=16,          # Tamanho da fonte do título\n",
    "        grid=True,                 # Mostrar grade no eixo X\n",
    "        labelAngle=30,             # Ângulo dos rótulos do eixo X\n",
    "        labelFontSize=13,          # Tamanho da fonte dos rótulos do eixo X\n",
    "        gridOpacity=0.4            # Opacidade da grade\n",
    "    )),\n",
    "    # Configuração do eixo Y\n",
    "    y=alt.Y('qtd_gols_partida:Q', scale=alt.Scale(domain=dominio), axis=alt.Axis(\n",
    "        title='Quantidade de Gols', # Título do eixo Y\n",
    "        titleFontSize=16,           # Tamanho da fonte do título\n",
    "        tickCount=3,                # Número de ticks no eixo Y\n",
    "        grid=False                  # Ocultar grade no eixo Y\n",
    "    ))\n",
    ").properties(\n",
    "    width=800,  # Largura personalizada em pixels\n",
    "    height=300,  # Altura personalizada em pixels\n",
    "    title=alt.TitleParams(text='Evolução da quantidade de gols nas partidas com o passar dos anos', fontSize=20)\n",
    ")\n"
   ]
  },
  {
   "cell_type": "markdown",
   "id": "ab76a4f6-19f3-4052-931d-116e46bf6866",
   "metadata": {},
   "source": [
    "### **Análise**\n",
    "\n",
    "A análise do gráfico nos mostra a evolução dos gols durante o período de 2003 a 2022. Podemos ver que nos primeiros 3 anos temos grandes quantidades de gols, que estão em torno de 1500 gols.\n",
    "Depois disso, por quase 15 anos, a quantidade média de gols por ano fica próximo de 1000 gols, com uma leve tendência para cair. \n",
    "Nos últimos 3 anos tivemos um comportamento mais flutuante que variou bastante em torno de 1000 gols.\n",
    "\n",
    "Dessa análise rápida, e por esse gráfico podemos entender isso, porém a causa para esse comportamento não pode ser encontrada aqui. Seja pela melhora técnica dos times que impediu manter a quantidade de gols, seja pela melhora/piora na hora de chutar ou qualquer outro fator, esse gráfico não irá responder isso."
   ]
  },
  {
   "cell_type": "markdown",
   "id": "63f3e99c-3a77-4cf8-906e-d5a55b9e0866",
   "metadata": {},
   "source": [
    "---\n",
    "## Questão 3 : Time mais eficiente em cada ano\n",
    "\n",
    "Inicialmente eu faço uma análise rápida que mostra esses dados.\n",
    "\n",
    "**Análise inicial**"
   ]
  },
  {
   "cell_type": "code",
   "execution_count": 16,
   "id": "11a2f8b5-9381-4a7a-9c90-6c1eab39dc38",
   "metadata": {},
   "outputs": [],
   "source": [
    "q3Estat = campBrasEstatFull.copy()\n",
    "q3 = campBrasFull.copy()"
   ]
  },
  {
   "cell_type": "markdown",
   "id": "2e07d83f-4f6d-4f56-86fc-7d69b91f6770",
   "metadata": {},
   "source": [
    "Primeiro eu preparo o dataset para fazer a análise, o objetivo é juntar as informações de chute e de quantidade de gols para o time mandante e para o visitante, de forma que eu consiga calcular a eficiência de cada clube e cada jogo. Terei que trabalhar com os dois dataframes, por isso eu pego de dois merges e faço a concatenação para gerar um dataframe que contenhas as informações necessárias para calcular a eficiência.\n",
    "\n",
    "Porém antes, vamos verificar a contagem de valores de chutes nos jogos:"
   ]
  },
  {
   "cell_type": "code",
   "execution_count": 17,
   "id": "50015ad5-b7af-40d4-b7d0-3d4d3c6542ab",
   "metadata": {},
   "outputs": [
    {
     "data": {
      "text/plain": [
       "chutes\n",
       "0     9990\n",
       "11     523\n",
       "12     507\n",
       "13     500\n",
       "9      471\n",
       "Name: count, dtype: int64"
      ]
     },
     "execution_count": 17,
     "metadata": {},
     "output_type": "execute_result"
    }
   ],
   "source": [
    "q3Estat['chutes'].value_counts().head(5)"
   ]
  },
  {
   "cell_type": "markdown",
   "id": "de2ff1cd-1fc1-4ac8-8fcc-08cae507157d",
   "metadata": {},
   "source": [
    "O foco que eu quero dar é que maior parte dos valores são nulos, provavelmente porque devem ter implementado a informações de chutes depois que já tinham outras! É possível verificar isso com outras colunas do mesmo dataframe. \n",
    "\n",
    "Então vamos focar nas informações que podemos usar para calcular a eficiência! Vamos filtrar primeiro e depois aplicar o tratamento para montar o gráfico. "
   ]
  },
  {
   "cell_type": "code",
   "execution_count": 18,
   "id": "769a578b-7579-4e98-9170-0239e40bd378",
   "metadata": {},
   "outputs": [],
   "source": [
    "# Filtro\n",
    "q3Estat = q3Estat[~q3Estat['posse_de_bola'].isna()]"
   ]
  },
  {
   "cell_type": "code",
   "execution_count": 19,
   "id": "be2e8951-9f6a-4814-9313-6df70ca04c3f",
   "metadata": {},
   "outputs": [],
   "source": [
    "# Tratamento\n",
    "# Mapeamento de colunas para simplificar os nomes\n",
    "map = {\n",
    "    'mandante_Placar':'gols',\n",
    "    'visitante_Placar':'gols'\n",
    "}\n",
    "\n",
    "# Primeira mesclagem dos DataFrames q3 e q3Estat para mandantes\n",
    "q3_1 = pd.merge(left=q3[['ID', 'mandante', 'mandante_Placar', 'data']],\n",
    "               right=q3Estat[['partida_id', 'clube', 'chutes','posse_de_bola']],\n",
    "               left_on=['ID','mandante'],\n",
    "               right_on=['partida_id','clube'],\n",
    "               how='inner').drop(['ID','partida_id','mandante'], axis=1)\n",
    "\n",
    "# Segunda mesclagem dos DataFrames q3 e q3Estat para visitantes\n",
    "q3_2 = pd.merge(left=q3[['ID', 'visitante', 'visitante_Placar', 'data']],\n",
    "               right=q3Estat[['partida_id', 'clube', 'chutes','posse_de_bola']],\n",
    "               left_on=['ID','visitante'],\n",
    "               right_on=['partida_id','clube'],\n",
    "               how='inner').drop(['ID','partida_id','visitante'], axis=1)\n",
    "\n",
    "# Renomear as colunas para simplificar os nomes usando o mapeamento\n",
    "q3_1.rename(map, inplace=True, axis=1)\n",
    "q3_2.rename(map, inplace=True, axis=1)\n",
    "\n",
    "# Concatenar os DataFrames resultantes (tanto mandantes quanto visitantes) ao longo do eixo 0\n",
    "q3 = pd.concat([q3_1, q3_2], axis=0)\n"
   ]
  },
  {
   "cell_type": "code",
   "execution_count": 20,
   "id": "36ae03b3-2aec-40e4-94b7-0e74be7938b2",
   "metadata": {},
   "outputs": [],
   "source": [
    "# Atributo de eficiência\n",
    "q3['eficiencia'] = q3['gols']/q3['chutes']"
   ]
  },
  {
   "cell_type": "markdown",
   "id": "b8c5afc4-b600-491d-ade1-8e7811b8a628",
   "metadata": {},
   "source": [
    "Checando a data mais antiga:"
   ]
  },
  {
   "cell_type": "code",
   "execution_count": 21,
   "id": "8e2744ad-bfbf-4368-bab0-66e0647d1044",
   "metadata": {},
   "outputs": [
    {
     "data": {
      "text/plain": [
       "Timestamp('2014-08-03 00:00:00')"
      ]
     },
     "execution_count": 21,
     "metadata": {},
     "output_type": "execute_result"
    }
   ],
   "source": [
    "q3['data'].min()"
   ]
  },
  {
   "cell_type": "markdown",
   "id": "e0a1d6c3-06e1-470f-88a4-5cf45b42eccb",
   "metadata": {},
   "source": [
    "Isso implica dizer que não temos todas as informações de 2014, então definir quem teve a maior eficiência baseada em parte das informações não é o correto, por isso trabalharemos somente a partir de 2015."
   ]
  },
  {
   "cell_type": "code",
   "execution_count": 22,
   "id": "6b419ff3-72d0-45d3-b689-8a31e177ed51",
   "metadata": {},
   "outputs": [],
   "source": [
    "q3 = q3.query('data>=\"2015-01-01\"')"
   ]
  },
  {
   "cell_type": "markdown",
   "id": "2100db45-0c22-4263-ab50-632b889e2f03",
   "metadata": {},
   "source": [
    "Vamos agrupar por ano e fazer a eficiência média anual de cada time e ordená-los."
   ]
  },
  {
   "cell_type": "code",
   "execution_count": 23,
   "id": "1e125412-a304-40a5-b11b-c0300ba5aa94",
   "metadata": {},
   "outputs": [],
   "source": [
    "# Agrupa por ano e clube e pega a eficiência média do time por ano. \n",
    "q3result = q3.groupby([q3.data.dt.year, 'clube'])[['eficiencia']].mean()\n",
    "\n",
    "# Agrupa por ano e pega os índices daqueles que tem a maior eficiência e filtra por isso\n",
    "q3result = q3result.loc[q3result.groupby(level=0)['eficiencia'].idxmax()]\n",
    "\n",
    "# Tira a informação de eficiência e só coloca o time com o ano\n",
    "q3result = q3result.reset_index(level=1).drop('eficiencia',axis=1)"
   ]
  },
  {
   "cell_type": "markdown",
   "id": "a1101eab-b2f4-4934-9975-b9fa846a0707",
   "metadata": {},
   "source": [
    "### **Discussão**\n",
    "\n",
    "Preparado os dados, a visualização que penso ser mais interessante deve utilizar de marcador adimensional, com pontos, e com canal visual de posição. Somente isso.\n",
    "\n",
    "Como a informação desejada é somente o clube mais eficiente de cada ano, não é necessário a informação de eficiência em si, que é uma porcentagem, mas somente a informação do clube, não necessitamos comparar os dados de eficiência entre eles também. A visualização em si então é simples, que depois poderia ser adicionado outros canais visuais, como as cores ou bandeira do time na parte de trás (background) de cada nome, de forma que facilitaria o reconhecimento do time. Porém devido a dificuldade da execução da ideia, deixei a visualização simples."
   ]
  },
  {
   "cell_type": "code",
   "execution_count": 24,
   "id": "96220c4b-b5ec-44d5-a1b7-9733d2c5a703",
   "metadata": {},
   "outputs": [
    {
     "data": {
      "text/html": [
       "\n",
       "<style>\n",
       "  #altair-viz-6a91addb649e4e19bff0e97af6ab6507.vega-embed {\n",
       "    width: 100%;\n",
       "    display: flex;\n",
       "  }\n",
       "\n",
       "  #altair-viz-6a91addb649e4e19bff0e97af6ab6507.vega-embed details,\n",
       "  #altair-viz-6a91addb649e4e19bff0e97af6ab6507.vega-embed details summary {\n",
       "    position: relative;\n",
       "  }\n",
       "</style>\n",
       "<div id=\"altair-viz-6a91addb649e4e19bff0e97af6ab6507\"></div>\n",
       "<script type=\"text/javascript\">\n",
       "  var VEGA_DEBUG = (typeof VEGA_DEBUG == \"undefined\") ? {} : VEGA_DEBUG;\n",
       "  (function(spec, embedOpt){\n",
       "    let outputDiv = document.currentScript.previousElementSibling;\n",
       "    if (outputDiv.id !== \"altair-viz-6a91addb649e4e19bff0e97af6ab6507\") {\n",
       "      outputDiv = document.getElementById(\"altair-viz-6a91addb649e4e19bff0e97af6ab6507\");\n",
       "    }\n",
       "    const paths = {\n",
       "      \"vega\": \"https://cdn.jsdelivr.net/npm/vega@5?noext\",\n",
       "      \"vega-lib\": \"https://cdn.jsdelivr.net/npm/vega-lib?noext\",\n",
       "      \"vega-lite\": \"https://cdn.jsdelivr.net/npm/vega-lite@5.14.1?noext\",\n",
       "      \"vega-embed\": \"https://cdn.jsdelivr.net/npm/vega-embed@6?noext\",\n",
       "    };\n",
       "\n",
       "    function maybeLoadScript(lib, version) {\n",
       "      var key = `${lib.replace(\"-\", \"\")}_version`;\n",
       "      return (VEGA_DEBUG[key] == version) ?\n",
       "        Promise.resolve(paths[lib]) :\n",
       "        new Promise(function(resolve, reject) {\n",
       "          var s = document.createElement('script');\n",
       "          document.getElementsByTagName(\"head\")[0].appendChild(s);\n",
       "          s.async = true;\n",
       "          s.onload = () => {\n",
       "            VEGA_DEBUG[key] = version;\n",
       "            return resolve(paths[lib]);\n",
       "          };\n",
       "          s.onerror = () => reject(`Error loading script: ${paths[lib]}`);\n",
       "          s.src = paths[lib];\n",
       "        });\n",
       "    }\n",
       "\n",
       "    function showError(err) {\n",
       "      outputDiv.innerHTML = `<div class=\"error\" style=\"color:red;\">${err}</div>`;\n",
       "      throw err;\n",
       "    }\n",
       "\n",
       "    function displayChart(vegaEmbed) {\n",
       "      vegaEmbed(outputDiv, spec, embedOpt)\n",
       "        .catch(err => showError(`Javascript Error: ${err.message}<br>This usually means there's a typo in your chart specification. See the javascript console for the full traceback.`));\n",
       "    }\n",
       "\n",
       "    if(typeof define === \"function\" && define.amd) {\n",
       "      requirejs.config({paths});\n",
       "      require([\"vega-embed\"], displayChart, err => showError(`Error loading script: ${err.message}`));\n",
       "    } else {\n",
       "      maybeLoadScript(\"vega\", \"5\")\n",
       "        .then(() => maybeLoadScript(\"vega-lite\", \"5.14.1\"))\n",
       "        .then(() => maybeLoadScript(\"vega-embed\", \"6\"))\n",
       "        .catch(showError)\n",
       "        .then(() => displayChart(vegaEmbed));\n",
       "    }\n",
       "  })({\"$schema\": \"https://vega.github.io/schema/vega/v5.json\", \"data\": [{\"name\": \"source_0\", \"values\": [{\"clube\": \"Corinthians\", \"data\": 2015}, {\"clube\": \"Santos\", \"data\": 2016}, {\"clube\": \"Gremio\", \"data\": 2017}, {\"clube\": \"Palmeiras\", \"data\": 2018}, {\"clube\": \"Flamengo\", \"data\": 2019}, {\"clube\": \"Santos\", \"data\": 2020}, {\"clube\": \"Atletico-MG\", \"data\": 2021}, {\"clube\": \"Sao Paulo\", \"data\": 2022}]}, {\"name\": \"source_0_y_domain_data\", \"values\": [{\"data\": 2015}, {\"data\": 2016}, {\"data\": 2017}, {\"data\": 2018}, {\"data\": 2019}, {\"data\": 2020}, {\"data\": 2021}, {\"data\": 2022}]}], \"marks\": [{\"type\": \"text\", \"name\": \"marks\", \"from\": {\"data\": \"source_0\"}, \"encode\": {\"update\": {\"description\": {\"signal\": \"\\\"data: \\\" + (isValid(datum[\\\"data\\\"]) ? datum[\\\"data\\\"] : \\\"\\\"+datum[\\\"data\\\"]) + \\\"; clube: \\\" + (isValid(datum[\\\"clube\\\"]) ? datum[\\\"clube\\\"] : \\\"\\\"+datum[\\\"clube\\\"])\"}, \"text\": {\"signal\": \"isValid(datum[\\\"clube\\\"]) ? datum[\\\"clube\\\"] : \\\"\\\"+datum[\\\"clube\\\"]\"}, \"fontWeight\": {\"value\": \"bold\"}, \"x\": {\"signal\": \"width\", \"mult\": 0.5}, \"align\": {\"value\": \"center\"}, \"baseline\": {\"value\": \"middle\"}, \"y\": {\"field\": \"data\", \"scale\": \"y\"}, \"fontSize\": {\"value\": 20}, \"fill\": {\"value\": \"black\"}}}, \"style\": [\"text\"]}], \"scales\": [{\"name\": \"y\", \"type\": \"point\", \"domain\": {\"data\": \"source_0_y_domain_data\", \"field\": \"data\", \"sort\": true}, \"range\": [0, {\"signal\": \"height\"}], \"padding\": 0.5}], \"axes\": [{\"scale\": \"y\", \"orient\": \"left\", \"grid\": false, \"labelFontSize\": 20, \"titleFontSize\": 18, \"title\": \"Anos\", \"zindex\": 0}], \"title\": {\"text\": \"Clubes mais eficientes por ano\", \"fontSize\": 20, \"frame\": \"group\"}, \"style\": \"cell\", \"background\": \"white\", \"padding\": 5, \"width\": 150, \"height\": 400}, {\"mode\": \"vega\"});\n",
       "</script>"
      ],
      "text/plain": [
       "alt.Chart(...)"
      ]
     },
     "execution_count": 24,
     "metadata": {},
     "output_type": "execute_result"
    }
   ],
   "source": [
    "# Visualização\n",
    "\n",
    "alt.Chart(q3result).mark_text(size=20, fontWeight=\"bold\").encode(\n",
    "    # Defina o eixo Y\n",
    "    y=alt.Y('data:N',\n",
    "        axis=alt.Axis(labelFontSize=20,\n",
    "                      title='Anos',\n",
    "                      titleFontSize=18)),\n",
    "    # Defina o texto a ser exibido no gráfico (clube alinhado à esquerda)\n",
    "    text=alt.Text('clube:N')  # Alinha o texto à esquerda\n",
    ").properties(\n",
    "    width=150,  # Largura do gráfico\n",
    "    height=400,  # Altura do gráfico\n",
    "    title=alt.TitleParams(text='Clubes mais eficientes por ano', fontSize=20)  # Título do gráfico\n",
    ")\n"
   ]
  },
  {
   "cell_type": "markdown",
   "id": "212d8dc5-df2c-460a-ab91-98d767c88b79",
   "metadata": {},
   "source": [
    "### **Análise**\n",
    "\n",
    "A análise que eu posso fazer sobre a visualização é bem simples, que podemos ver quais são os clubes que foram mais eficiente em cada ano, em nenhum momento eu deixo explícito o que é eficiente, porém não sabia aonde colocar senão no título, o que deixaria ele muito grande.\n",
    "\n",
    "É possível ver que a quantidade de anos é limitada, por causa da falta de dados referente aos atributos utilizados para o cálculo da eficiência, mas pelo menos podemos ver os  últimos 8 anos. É deixado explícito quem são os times, mas não é colocado os valores associado a eficiência. "
   ]
  },
  {
   "cell_type": "markdown",
   "id": "99b91d98-56fa-465f-a073-a7c57206bcde",
   "metadata": {},
   "source": [
    "---\n",
    "## Questão 4 : Posse de bola está correlacionado com quantidade de gols?\n",
    "\n",
    "Ao invés de realizar um insight que obtive durante o trabalho, quero responder essa dúvida que sempre tive.\n",
    "\n",
    "Inicialmente eu faço um tratamento rápido para que eu possa fazer a análise."
   ]
  },
  {
   "cell_type": "markdown",
   "id": "4e0ced4a-a4e8-4311-a90f-42886cb86b9b",
   "metadata": {},
   "source": [
    "**Análise inicial**"
   ]
  },
  {
   "cell_type": "markdown",
   "id": "7d255dee-1235-4ad7-ba05-6a11d4cbe6d4",
   "metadata": {},
   "source": [
    "Terei que juntar ambos os dataframes, filtrar para as partidas que tem informação de posse de bola, alterar o tipo do atributo posse de bola para um float, e aí poderei fazer uma visualização de gráfico de dispersão entre os dois atributos. E é basicamente o que eu faço na terceira questão! Por isso já pegarei os dados tratados dela."
   ]
  },
  {
   "cell_type": "code",
   "execution_count": 25,
   "id": "a9e90b5f-33df-4f18-a0e8-e5d6b4515358",
   "metadata": {},
   "outputs": [],
   "source": [
    "q4 = q3.copy()"
   ]
  },
  {
   "cell_type": "markdown",
   "id": "96dad988-af40-4bd6-8f7d-52132d7e9c39",
   "metadata": {},
   "source": [
    "As informações que eu tenho interesse são gols e posse de bola, por isso jogarei o resto fora."
   ]
  },
  {
   "cell_type": "code",
   "execution_count": 26,
   "id": "4a4934b9-143d-4f8e-8a0b-1a95455a2ad8",
   "metadata": {},
   "outputs": [],
   "source": [
    "q4 = q4.drop(['data', 'clube', 'chutes', 'eficiencia'], axis=1)"
   ]
  },
  {
   "cell_type": "code",
   "execution_count": 27,
   "id": "a9f834de-62a0-461e-87d7-a795ad595c31",
   "metadata": {},
   "outputs": [],
   "source": [
    "q4['posse_de_bola'] = pd.to_numeric(q4['posse_de_bola'].str.strip('%'))/100"
   ]
  },
  {
   "cell_type": "code",
   "execution_count": 28,
   "id": "3048df1a-fc7c-4133-af55-f57ea4886ebb",
   "metadata": {},
   "outputs": [],
   "source": [
    "# Visualização\n",
    "# alt.Chart(q4).mark_point().encode(\n",
    "#     x=alt.X('posse_de_bola',type='quantitative'),\n",
    "#     y=alt.Y('gols',type='quantitative')\n",
    "# ).properties(\n",
    "#     width=700,  # Largura do gráfico\n",
    "#     height=300,  # Altura do gráfico\n",
    "#     title=alt.TitleParams(text='Gráfico de correlação', fontSize=20)  # Título do gráfico\n",
    "# )"
   ]
  },
  {
   "cell_type": "markdown",
   "id": "75c2aae8-61f9-4956-89e1-dcb653a8878f",
   "metadata": {},
   "source": [
    "### **Discussão**\n",
    "\n",
    "Minha ideia inicial para gerar a visualização era a fazer um gráfico de dispersão, porém após terminar de fazer o gráfico, foi possível ver que os dados referentes aos gols se comportam basicamente categóricos, uma vez que seus valores são somente inteiros positivos. E disso a ideia surgiu para substituir o gráfico de dispersão por uma superposição de vários gráficos de distribuição, para analisar o comportamento da porcentagem de posse do bola para cada quantidade de gol. A ideia seria utilizar o marcador unidimensional, a reta, e utilizando os canais visuais de cor e posição. Não precisamos ter a informação de quantidade exata, por que o interessante será ver o comportamento das distribuições mais do que quanto tem em casa um."
   ]
  },
  {
   "cell_type": "code",
   "execution_count": 29,
   "id": "fca8af51-103f-4c92-a8d1-4b5a38934b46",
   "metadata": {},
   "outputs": [
    {
     "data": {
      "text/html": [
       "\n",
       "<style>\n",
       "  #altair-viz-c80ac573a2e847bb86dbb83c3ef24706.vega-embed {\n",
       "    width: 100%;\n",
       "    display: flex;\n",
       "  }\n",
       "\n",
       "  #altair-viz-c80ac573a2e847bb86dbb83c3ef24706.vega-embed details,\n",
       "  #altair-viz-c80ac573a2e847bb86dbb83c3ef24706.vega-embed details summary {\n",
       "    position: relative;\n",
       "  }\n",
       "</style>\n",
       "<div id=\"altair-viz-c80ac573a2e847bb86dbb83c3ef24706\"></div>\n",
       "<script type=\"text/javascript\">\n",
       "  var VEGA_DEBUG = (typeof VEGA_DEBUG == \"undefined\") ? {} : VEGA_DEBUG;\n",
       "  (function(spec, embedOpt){\n",
       "    let outputDiv = document.currentScript.previousElementSibling;\n",
       "    if (outputDiv.id !== \"altair-viz-c80ac573a2e847bb86dbb83c3ef24706\") {\n",
       "      outputDiv = document.getElementById(\"altair-viz-c80ac573a2e847bb86dbb83c3ef24706\");\n",
       "    }\n",
       "    const paths = {\n",
       "      \"vega\": \"https://cdn.jsdelivr.net/npm/vega@5?noext\",\n",
       "      \"vega-lib\": \"https://cdn.jsdelivr.net/npm/vega-lib?noext\",\n",
       "      \"vega-lite\": \"https://cdn.jsdelivr.net/npm/vega-lite@5.14.1?noext\",\n",
       "      \"vega-embed\": \"https://cdn.jsdelivr.net/npm/vega-embed@6?noext\",\n",
       "    };\n",
       "\n",
       "    function maybeLoadScript(lib, version) {\n",
       "      var key = `${lib.replace(\"-\", \"\")}_version`;\n",
       "      return (VEGA_DEBUG[key] == version) ?\n",
       "        Promise.resolve(paths[lib]) :\n",
       "        new Promise(function(resolve, reject) {\n",
       "          var s = document.createElement('script');\n",
       "          document.getElementsByTagName(\"head\")[0].appendChild(s);\n",
       "          s.async = true;\n",
       "          s.onload = () => {\n",
       "            VEGA_DEBUG[key] = version;\n",
       "            return resolve(paths[lib]);\n",
       "          };\n",
       "          s.onerror = () => reject(`Error loading script: ${paths[lib]}`);\n",
       "          s.src = paths[lib];\n",
       "        });\n",
       "    }\n",
       "\n",
       "    function showError(err) {\n",
       "      outputDiv.innerHTML = `<div class=\"error\" style=\"color:red;\">${err}</div>`;\n",
       "      throw err;\n",
       "    }\n",
       "\n",
       "    function displayChart(vegaEmbed) {\n",
       "      vegaEmbed(outputDiv, spec, embedOpt)\n",
       "        .catch(err => showError(`Javascript Error: ${err.message}<br>This usually means there's a typo in your chart specification. See the javascript console for the full traceback.`));\n",
       "    }\n",
       "\n",
       "    if(typeof define === \"function\" && define.amd) {\n",
       "      requirejs.config({paths});\n",
       "      require([\"vega-embed\"], displayChart, err => showError(`Error loading script: ${err.message}`));\n",
       "    } else {\n",
       "      maybeLoadScript(\"vega\", \"5\")\n",
       "        .then(() => maybeLoadScript(\"vega-lite\", \"5.14.1\"))\n",
       "        .then(() => maybeLoadScript(\"vega-embed\", \"6\"))\n",
       "        .catch(showError)\n",
       "        .then(() => displayChart(vegaEmbed));\n",
       "    }\n",
       "  })({\"$schema\": \"https://vega.github.io/schema/vega/v5.json\", \"data\": [{\"name\": \"source_0\", \"values\": [{\"bin_maxbins_10_posse_de_bola\": 0.4, \"bin_maxbins_10_posse_de_bola_end\": 0.5, \"gols\": 2, \"__count\": 440}, {\"bin_maxbins_10_posse_de_bola\": 0.5, \"bin_maxbins_10_posse_de_bola_end\": 0.6, \"gols\": 2, \"__count\": 345}, {\"bin_maxbins_10_posse_de_bola\": 0.7, \"bin_maxbins_10_posse_de_bola_end\": 0.7999999999999999, \"gols\": 1, \"__count\": 42}, {\"bin_maxbins_10_posse_de_bola\": 0.4, \"bin_maxbins_10_posse_de_bola_end\": 0.5, \"gols\": 3, \"__count\": 159}, {\"bin_maxbins_10_posse_de_bola\": 0.30000000000000004, \"bin_maxbins_10_posse_de_bola_end\": 0.4, \"gols\": 3, \"__count\": 76}, {\"bin_maxbins_10_posse_de_bola\": 0.5, \"bin_maxbins_10_posse_de_bola_end\": 0.6, \"gols\": 0, \"__count\": 594}, {\"bin_maxbins_10_posse_de_bola\": 0.5, \"bin_maxbins_10_posse_de_bola_end\": 0.6, \"gols\": 4, \"__count\": 46}, {\"bin_maxbins_10_posse_de_bola\": 0.5, \"bin_maxbins_10_posse_de_bola_end\": 0.6, \"gols\": 1, \"__count\": 643}, {\"bin_maxbins_10_posse_de_bola\": 0.6000000000000001, \"bin_maxbins_10_posse_de_bola_end\": 0.7000000000000001, \"gols\": 0, \"__count\": 367}, {\"bin_maxbins_10_posse_de_bola\": 0.4, \"bin_maxbins_10_posse_de_bola_end\": 0.5, \"gols\": 1, \"__count\": 724}, {\"bin_maxbins_10_posse_de_bola\": 0.4, \"bin_maxbins_10_posse_de_bola_end\": 0.5, \"gols\": 0, \"__count\": 568}, {\"bin_maxbins_10_posse_de_bola\": 0.30000000000000004, \"bin_maxbins_10_posse_de_bola_end\": 0.4, \"gols\": 0, \"__count\": 234}, {\"bin_maxbins_10_posse_de_bola\": 0.6000000000000001, \"bin_maxbins_10_posse_de_bola_end\": 0.7000000000000001, \"gols\": 3, \"__count\": 83}, {\"bin_maxbins_10_posse_de_bola\": 0.6000000000000001, \"bin_maxbins_10_posse_de_bola_end\": 0.7000000000000001, \"gols\": 1, \"__count\": 346}, {\"bin_maxbins_10_posse_de_bola\": 0.7, \"bin_maxbins_10_posse_de_bola_end\": 0.7999999999999999, \"gols\": 0, \"__count\": 70}, {\"bin_maxbins_10_posse_de_bola\": 0.30000000000000004, \"bin_maxbins_10_posse_de_bola_end\": 0.4, \"gols\": 1, \"__count\": 383}, {\"bin_maxbins_10_posse_de_bola\": 0.5, \"bin_maxbins_10_posse_de_bola_end\": 0.6, \"gols\": 3, \"__count\": 161}, {\"bin_maxbins_10_posse_de_bola\": 0.6000000000000001, \"bin_maxbins_10_posse_de_bola_end\": 0.7000000000000001, \"gols\": 2, \"__count\": 221}, {\"bin_maxbins_10_posse_de_bola\": 0.30000000000000004, \"bin_maxbins_10_posse_de_bola_end\": 0.4, \"gols\": 2, \"__count\": 215}, {\"bin_maxbins_10_posse_de_bola\": 0.4, \"bin_maxbins_10_posse_de_bola_end\": 0.5, \"gols\": 4, \"__count\": 51}, {\"bin_maxbins_10_posse_de_bola\": 0.5, \"bin_maxbins_10_posse_de_bola_end\": 0.6, \"gols\": 5, \"__count\": 17}, {\"bin_maxbins_10_posse_de_bola\": 0.30000000000000004, \"bin_maxbins_10_posse_de_bola_end\": 0.4, \"gols\": 4, \"__count\": 23}, {\"bin_maxbins_10_posse_de_bola\": 0.30000000000000004, \"bin_maxbins_10_posse_de_bola_end\": 0.4, \"gols\": 6, \"__count\": 2}, {\"bin_maxbins_10_posse_de_bola\": 0.7, \"bin_maxbins_10_posse_de_bola_end\": 0.7999999999999999, \"gols\": 2, \"__count\": 28}, {\"bin_maxbins_10_posse_de_bola\": 0.4, \"bin_maxbins_10_posse_de_bola_end\": 0.5, \"gols\": 5, \"__count\": 8}, {\"bin_maxbins_10_posse_de_bola\": 0.6000000000000001, \"bin_maxbins_10_posse_de_bola_end\": 0.7000000000000001, \"gols\": 4, \"__count\": 28}, {\"bin_maxbins_10_posse_de_bola\": 0.5, \"bin_maxbins_10_posse_de_bola_end\": 0.6, \"gols\": 6, \"__count\": 4}, {\"bin_maxbins_10_posse_de_bola\": 0.6000000000000001, \"bin_maxbins_10_posse_de_bola_end\": 0.7000000000000001, \"gols\": 5, \"__count\": 7}, {\"bin_maxbins_10_posse_de_bola\": 0.2, \"bin_maxbins_10_posse_de_bola_end\": 0.30000000000000004, \"gols\": 0, \"__count\": 36}, {\"bin_maxbins_10_posse_de_bola\": 0.2, \"bin_maxbins_10_posse_de_bola_end\": 0.30000000000000004, \"gols\": 1, \"__count\": 51}, {\"bin_maxbins_10_posse_de_bola\": 0.2, \"bin_maxbins_10_posse_de_bola_end\": 0.30000000000000004, \"gols\": 3, \"__count\": 8}, {\"bin_maxbins_10_posse_de_bola\": 0.2, \"bin_maxbins_10_posse_de_bola_end\": 0.30000000000000004, \"gols\": 2, \"__count\": 25}, {\"bin_maxbins_10_posse_de_bola\": 0.7, \"bin_maxbins_10_posse_de_bola_end\": 0.7999999999999999, \"gols\": 5, \"__count\": 2}, {\"bin_maxbins_10_posse_de_bola\": 0.7, \"bin_maxbins_10_posse_de_bola_end\": 0.7999999999999999, \"gols\": 3, \"__count\": 10}, {\"bin_maxbins_10_posse_de_bola\": 0.7, \"bin_maxbins_10_posse_de_bola_end\": 0.7999999999999999, \"gols\": 4, \"__count\": 3}, {\"bin_maxbins_10_posse_de_bola\": 0.7, \"bin_maxbins_10_posse_de_bola_end\": 0.7999999999999999, \"gols\": 6, \"__count\": 2}, {\"bin_maxbins_10_posse_de_bola\": 0.6000000000000001, \"bin_maxbins_10_posse_de_bola_end\": 0.7000000000000001, \"gols\": 6, \"__count\": 2}, {\"bin_maxbins_10_posse_de_bola\": 0.8, \"bin_maxbins_10_posse_de_bola_end\": 0.9, \"gols\": 1, \"__count\": 2}, {\"bin_maxbins_10_posse_de_bola\": 0.2, \"bin_maxbins_10_posse_de_bola_end\": 0.30000000000000004, \"gols\": 5, \"__count\": 1}, {\"bin_maxbins_10_posse_de_bola\": 0.2, \"bin_maxbins_10_posse_de_bola_end\": 0.30000000000000004, \"gols\": 4, \"__count\": 1}]}, {\"name\": \"source_0_y_domain___count\", \"values\": [{\"min\": 1, \"max\": 724}]}, {\"name\": \"source_0_color_domain_gols\", \"values\": [{\"gols\": 2}, {\"gols\": 1}, {\"gols\": 3}, {\"gols\": 0}, {\"gols\": 4}, {\"gols\": 5}, {\"gols\": 6}]}], \"signals\": [{\"name\": \"layer_0_bin_maxbins_10_posse_de_bola_bins\", \"value\": {\"fields\": [\"posse_de_bola\"], \"fname\": \"bin_posse_de_bola\", \"start\": 0.2, \"step\": 0.1, \"stop\": 0.8}}], \"marks\": [{\"type\": \"group\", \"name\": \"layer_0_pathgroup\", \"from\": {\"facet\": {\"data\": \"source_0\", \"name\": \"faceted_path_layer_0_main\", \"groupby\": [\"gols\"]}}, \"encode\": {\"update\": {\"height\": {\"field\": {\"signal\": null, \"datum\": null, \"group\": \"height\", \"parent\": null}}, \"width\": {\"field\": {\"signal\": null, \"datum\": null, \"group\": \"width\", \"parent\": null}}}}, \"marks\": [{\"type\": \"line\", \"name\": \"layer_0_marks\", \"from\": {\"data\": \"faceted_path_layer_0_main\"}, \"sort\": {\"field\": \"datum[\\\"bin_maxbins_10_posse_de_bola\\\"]\"}, \"encode\": {\"update\": {\"interpolate\": {\"value\": \"natural\"}, \"description\": {\"signal\": \"\\\"Posse de Bola: \\\" + (!isValid(datum[\\\"bin_maxbins_10_posse_de_bola\\\"]) || !isFinite(+datum[\\\"bin_maxbins_10_posse_de_bola\\\"]) ? \\\"null\\\" : format(datum[\\\"bin_maxbins_10_posse_de_bola\\\"], \\\"\\\") + \\\" \\u2013 \\\" + format(datum[\\\"bin_maxbins_10_posse_de_bola_end\\\"], \\\"\\\")) + \\\"; Count of Records: \\\" + (format(datum[\\\"__count\\\"], \\\"\\\")) + \\\"; Quantidade de Gols: \\\" + (isValid(datum[\\\"gols\\\"]) ? datum[\\\"gols\\\"] : \\\"\\\"+datum[\\\"gols\\\"])\"}, \"stroke\": {\"field\": \"gols\", \"scale\": \"color\"}, \"y\": {\"field\": \"__count\", \"scale\": \"y\"}, \"x\": {\"signal\": \"scale(\\\"x\\\", 0.5 * datum[\\\"bin_maxbins_10_posse_de_bola\\\"] + 0.5 * datum[\\\"bin_maxbins_10_posse_de_bola_end\\\"])\"}, \"defined\": {\"signal\": \"isValid(datum[\\\"bin_maxbins_10_posse_de_bola\\\"]) && isFinite(+datum[\\\"bin_maxbins_10_posse_de_bola\\\"]) && isValid(datum[\\\"__count\\\"]) && isFinite(+datum[\\\"__count\\\"])\"}}}, \"style\": [\"line\"]}]}], \"scales\": [{\"name\": \"x\", \"type\": \"linear\", \"domain\": {\"signal\": \"[layer_0_bin_maxbins_10_posse_de_bola_bins.start, layer_0_bin_maxbins_10_posse_de_bola_bins.stop]\"}, \"range\": [0, {\"signal\": \"width\"}], \"bins\": {\"signal\": \"layer_0_bin_maxbins_10_posse_de_bola_bins\"}, \"zero\": false}, {\"name\": \"y\", \"type\": \"linear\", \"domain\": [{\"signal\": \"(data(\\\"source_0_y_domain___count\\\")[0] || {}).min\"}, {\"signal\": \"(data(\\\"source_0_y_domain___count\\\")[0] || {}).max\"}], \"range\": [{\"signal\": \"height\"}, 0], \"nice\": true, \"zero\": true}, {\"name\": \"color\", \"type\": \"ordinal\", \"domain\": {\"data\": \"source_0_color_domain_gols\", \"field\": \"gols\", \"sort\": true}, \"range\": \"category\"}], \"axes\": [{\"scale\": \"x\", \"titleFontSize\": 16, \"labelOverlap\": true, \"title\": \"Posse de Bola\", \"tickCount\": {\"signal\": \"ceil(width/10)\"}, \"labelFlush\": true, \"zindex\": 0, \"grid\": false, \"labelFontSize\": 14, \"orient\": \"bottom\"}], \"title\": {\"text\": \"Distribui\\u00e7\\u00f5es de Posse de bola agrupados por quantidade de gols\", \"fontSize\": 18, \"frame\": \"group\"}, \"width\": 500, \"height\": 375, \"style\": \"cell\", \"legends\": [{\"labelFontSize\": 12, \"title\": \"Quantidade de Gols\", \"titleFontSize\": 14, \"stroke\": \"color\", \"symbolType\": \"stroke\"}], \"config\": {\"style\": {\"cell\": {\"stroke\": null}}}, \"background\": \"white\", \"padding\": 5}, {\"mode\": \"vega\"});\n",
       "</script>"
      ],
      "text/plain": [
       "alt.LayerChart(...)"
      ]
     },
     "execution_count": 29,
     "metadata": {},
     "output_type": "execute_result"
    }
   ],
   "source": [
    "# Crie um gráfico de linha com a posse de bola agrupada e colorida por quantidade de gols\n",
    "chart1 = alt.Chart(q4).mark_line(interpolate='natural').encode(\n",
    "    x=alt.X('posse_de_bola:Q', bin=True, \n",
    "            title='Posse de Bola',  # Define o título do eixo X\n",
    "            axis=alt.Axis(titleFontSize=16, labelFontSize=14)),  # Define as propriedades do eixo X\n",
    "    y=alt.Y('count():Q', \n",
    "                        # title='Quantidade de casos',  # Define o título do eixo Y\n",
    "            axis=None), # alt.Axis(titleFontSize=16, labelFontSize=14)),  # Define as propriedades do eixo Y\n",
    "    color=alt.Color('gols:N', \n",
    "                   title='Quantidade de Gols',  # Define o título da legenda de cores\n",
    "                   legend=alt.Legend(titleFontSize=14, labelFontSize=12)  # Define as propriedades da legenda de cores\n",
    "          )\n",
    ").properties(\n",
    "    width=500,  # Define a largura do gráfico\n",
    "    height=375,  # Define a altura do gráfico\n",
    "    title=alt.TitleParams(text='Distribuições de Posse de bola agrupados por quantidade de gols', fontSize=18)  # Define o título do gráfico\n",
    ")\n",
    "\n",
    "# Sobreponha o gráfico\n",
    "overlayed_chart = alt.layer(chart1)\n",
    "\n",
    "# Exiba o gráfico sobreposto\n",
    "overlayed_chart.configure_view(stroke=None)  # Oculta as bordas do gráfico\n"
   ]
  },
  {
   "cell_type": "markdown",
   "id": "be93bc46-c493-49a9-8ffc-f381752b15af",
   "metadata": {},
   "source": [
    "### **Análise**"
   ]
  },
  {
   "cell_type": "markdown",
   "id": "a81933c3-68a7-4880-9920-b49ae63f20bd",
   "metadata": {},
   "source": [
    "Quando olhando o gráfico, podemos notar de cara o formato de distribuições normais principalmente para os casos que tem uma maior contagem associada (menores quantidades de gols) e que mesmo para os outros casos, é possível ver já um formato padrão se construindo. Com isso em mente, podemos ver alguns detalhes dessa distribuição, tomemos como exemplo o caso de quantidade de gols ser igual a zero, a linha azul, por mais que a maior parte dos casos de posse de bola fique em torno de 50%, há casos que também vá para os extremos, perto de 25% e também de 75%, o que significa que há clubes que mesmo com 75% de posse de bola não marcaram nenhum gol! O outro extremo também é possível ver, onde clubes que fizeram 4 gols ainda tiveram posse de bola menor que 30%.\n",
    "\n",
    "Minha ideia inicial dessa análise era ver se posse de bola era correlacionado com a quantidade de gols, e para a quantidade de casos que temos, é possível ver que pelos padrões mostrados, os dois atributos não tem uma correlação boa. Até 4 gols podemos ver claramente que o formato de distribuição normal aparece, porém para maiores quantidade de gols teríamos que ter mais casos para poder tirar algum insight."
   ]
  },
  {
   "cell_type": "code",
   "execution_count": null,
   "id": "3f5103cd-e59d-46d0-beb7-ebdcc590f6fb",
   "metadata": {},
   "outputs": [],
   "source": []
  }
 ],
 "metadata": {
  "kernelspec": {
   "display_name": "venvSI",
   "language": "python",
   "name": "venvsi"
  },
  "language_info": {
   "codemirror_mode": {
    "name": "ipython",
    "version": 3
   },
   "file_extension": ".py",
   "mimetype": "text/x-python",
   "name": "python",
   "nbconvert_exporter": "python",
   "pygments_lexer": "ipython3",
   "version": "3.8.10"
  },
  "toc-showmarkdowntxt": false
 },
 "nbformat": 4,
 "nbformat_minor": 5
}
